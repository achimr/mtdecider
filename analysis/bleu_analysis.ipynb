{
 "cells": [
  {
   "cell_type": "markdown",
   "id": "b2f85969",
   "metadata": {},
   "source": [
    "# Runtime preparation"
   ]
  },
  {
   "cell_type": "code",
   "execution_count": null,
   "id": "7c0681e2",
   "metadata": {},
   "outputs": [],
   "source": [
    "import os"
   ]
  },
  {
   "cell_type": "code",
   "execution_count": null,
   "id": "8b3ae058",
   "metadata": {},
   "outputs": [],
   "source": [
    "running_in_colab = 'google.colab' in str(get_ipython())\n",
    "homedir = \"\"\n",
    "if running_in_colab:\n",
    "    from google.colab import drive\n",
    "    drive.mount('/content/drive')\n",
    "    homedir = \"/content/drive/MyDrive\"\n",
    "else:\n",
    "    homedir = os.getenv('HOME')\n"
   ]
  },
  {
   "cell_type": "code",
   "execution_count": null,
   "id": "fea291bd",
   "metadata": {},
   "outputs": [],
   "source": [
    "if running_in_colab:\n",
    "    from google.colab import data_table\n",
    "    data_table.enable_dataframe_formatter()"
   ]
  },
  {
   "cell_type": "markdown",
   "id": "b822188d",
   "metadata": {},
   "source": [
    "# Loading BLEU data into data frame categorized by quarter"
   ]
  },
  {
   "cell_type": "code",
   "execution_count": null,
   "id": "d65b476a",
   "metadata": {},
   "outputs": [],
   "source": [
    "base_path = homedir+'/mtd_data/'\n",
    "bleu_scores_file = base_path+'bleu.csv'\n",
    "\n",
    "import pandas as pd\n",
    "metrics = pd.read_csv(\n",
    "    bleu_scores_file,\n",
    "    parse_dates=['date'],\n",
    "    infer_datetime_format=True,\n",
    ")\n",
    "metrics = metrics.set_index('date').to_period('Q')"
   ]
  },
  {
   "cell_type": "code",
   "execution_count": null,
   "id": "0ce5ac5e",
   "metadata": {},
   "outputs": [
    {
     "data": {
      "text/html": [
       "<div>\n",
       "<style scoped>\n",
       "    .dataframe tbody tr th:only-of-type {\n",
       "        vertical-align: middle;\n",
       "    }\n",
       "\n",
       "    .dataframe tbody tr th {\n",
       "        vertical-align: top;\n",
       "    }\n",
       "\n",
       "    .dataframe thead th {\n",
       "        text-align: right;\n",
       "    }\n",
       "</style>\n",
       "<table border=\"1\" class=\"dataframe\">\n",
       "  <thead>\n",
       "    <tr style=\"text-align: right;\">\n",
       "      <th></th>\n",
       "      <th>name</th>\n",
       "      <th>score</th>\n",
       "      <th>signature</th>\n",
       "      <th>verbose_score</th>\n",
       "      <th>nrefs</th>\n",
       "      <th>case</th>\n",
       "      <th>eff</th>\n",
       "      <th>tok</th>\n",
       "      <th>smooth</th>\n",
       "      <th>version</th>\n",
       "      <th>source_langid</th>\n",
       "      <th>target_langid</th>\n",
       "      <th>test_set</th>\n",
       "      <th>engine</th>\n",
       "      <th>domain</th>\n",
       "    </tr>\n",
       "    <tr>\n",
       "      <th>date</th>\n",
       "      <th></th>\n",
       "      <th></th>\n",
       "      <th></th>\n",
       "      <th></th>\n",
       "      <th></th>\n",
       "      <th></th>\n",
       "      <th></th>\n",
       "      <th></th>\n",
       "      <th></th>\n",
       "      <th></th>\n",
       "      <th></th>\n",
       "      <th></th>\n",
       "      <th></th>\n",
       "      <th></th>\n",
       "      <th></th>\n",
       "    </tr>\n",
       "  </thead>\n",
       "  <tbody>\n",
       "    <tr>\n",
       "      <th>2023Q2</th>\n",
       "      <td>BLEU</td>\n",
       "      <td>40.87</td>\n",
       "      <td>nrefs:1|case:mixed|eff:no|tok:13a|smooth:exp|v...</td>\n",
       "      <td>70.2/47.6/35.1/26.6 (BP = 0.972 ratio = 0.973 ...</td>\n",
       "      <td>1</td>\n",
       "      <td>mixed</td>\n",
       "      <td>no</td>\n",
       "      <td>13a</td>\n",
       "      <td>exp</td>\n",
       "      <td>2.3.1</td>\n",
       "      <td>en</td>\n",
       "      <td>de</td>\n",
       "      <td>wmt20</td>\n",
       "      <td>deepl</td>\n",
       "      <td>NaN</td>\n",
       "    </tr>\n",
       "    <tr>\n",
       "      <th>2023Q2</th>\n",
       "      <td>BLEU</td>\n",
       "      <td>43.18</td>\n",
       "      <td>nrefs:1|case:mixed|eff:no|tok:13a|smooth:exp|v...</td>\n",
       "      <td>71.9/49.8/37.2/28.5 (BP = 0.978 ratio = 0.979 ...</td>\n",
       "      <td>1</td>\n",
       "      <td>mixed</td>\n",
       "      <td>no</td>\n",
       "      <td>13a</td>\n",
       "      <td>exp</td>\n",
       "      <td>2.3.1</td>\n",
       "      <td>en</td>\n",
       "      <td>de</td>\n",
       "      <td>wmt20</td>\n",
       "      <td>microsoft</td>\n",
       "      <td>NaN</td>\n",
       "    </tr>\n",
       "    <tr>\n",
       "      <th>2023Q2</th>\n",
       "      <td>BLEU</td>\n",
       "      <td>34.63</td>\n",
       "      <td>nrefs:1|case:mixed|eff:no|tok:13a|smooth:exp|v...</td>\n",
       "      <td>63.0/40.3/28.2/20.1 (BP = 1.000 ratio = 1.022 ...</td>\n",
       "      <td>1</td>\n",
       "      <td>mixed</td>\n",
       "      <td>no</td>\n",
       "      <td>13a</td>\n",
       "      <td>exp</td>\n",
       "      <td>2.3.1</td>\n",
       "      <td>en</td>\n",
       "      <td>it</td>\n",
       "      <td>wmt09</td>\n",
       "      <td>deepl</td>\n",
       "      <td>NaN</td>\n",
       "    </tr>\n",
       "    <tr>\n",
       "      <th>2023Q2</th>\n",
       "      <td>BLEU</td>\n",
       "      <td>33.79</td>\n",
       "      <td>nrefs:1|case:mixed|eff:no|tok:13a|smooth:exp|v...</td>\n",
       "      <td>62.4/39.5/27.3/19.4 (BP = 1.000 ratio = 1.018 ...</td>\n",
       "      <td>1</td>\n",
       "      <td>mixed</td>\n",
       "      <td>no</td>\n",
       "      <td>13a</td>\n",
       "      <td>exp</td>\n",
       "      <td>2.3.1</td>\n",
       "      <td>en</td>\n",
       "      <td>it</td>\n",
       "      <td>wmt09</td>\n",
       "      <td>microsoft</td>\n",
       "      <td>NaN</td>\n",
       "    </tr>\n",
       "  </tbody>\n",
       "</table>\n",
       "</div>"
      ],
      "text/plain": [
       "        name  score                                          signature  \\\n",
       "date                                                                     \n",
       "2023Q2  BLEU  40.87  nrefs:1|case:mixed|eff:no|tok:13a|smooth:exp|v...   \n",
       "2023Q2  BLEU  43.18  nrefs:1|case:mixed|eff:no|tok:13a|smooth:exp|v...   \n",
       "2023Q2  BLEU  34.63  nrefs:1|case:mixed|eff:no|tok:13a|smooth:exp|v...   \n",
       "2023Q2  BLEU  33.79  nrefs:1|case:mixed|eff:no|tok:13a|smooth:exp|v...   \n",
       "\n",
       "                                            verbose_score  nrefs   case eff  \\\n",
       "date                                                                          \n",
       "2023Q2  70.2/47.6/35.1/26.6 (BP = 0.972 ratio = 0.973 ...      1  mixed  no   \n",
       "2023Q2  71.9/49.8/37.2/28.5 (BP = 0.978 ratio = 0.979 ...      1  mixed  no   \n",
       "2023Q2  63.0/40.3/28.2/20.1 (BP = 1.000 ratio = 1.022 ...      1  mixed  no   \n",
       "2023Q2  62.4/39.5/27.3/19.4 (BP = 1.000 ratio = 1.018 ...      1  mixed  no   \n",
       "\n",
       "        tok smooth version source_langid target_langid test_set     engine  \\\n",
       "date                                                                         \n",
       "2023Q2  13a    exp   2.3.1            en            de    wmt20      deepl   \n",
       "2023Q2  13a    exp   2.3.1            en            de    wmt20  microsoft   \n",
       "2023Q2  13a    exp   2.3.1            en            it    wmt09      deepl   \n",
       "2023Q2  13a    exp   2.3.1            en            it    wmt09  microsoft   \n",
       "\n",
       "        domain  \n",
       "date            \n",
       "2023Q2     NaN  \n",
       "2023Q2     NaN  \n",
       "2023Q2     NaN  \n",
       "2023Q2     NaN  "
      ]
     },
     "execution_count": null,
     "metadata": {},
     "output_type": "execute_result"
    }
   ],
   "source": [
    "metrics"
   ]
  },
  {
   "cell_type": "markdown",
   "id": "917b2a99",
   "metadata": {},
   "source": [
    "# Drawing a chart"
   ]
  },
  {
   "cell_type": "code",
   "execution_count": null,
   "id": "f938b1ed",
   "metadata": {},
   "outputs": [],
   "source": [
    "chart = metrics[['source_langid','target_langid','test_set','engine','score']]\n",
    "chart = chart.set_index(['source_langid','target_langid','test_set','engine'])\n",
    "chart = chart.sort_values(['source_langid','target_langid','test_set','score'],ascending=[True,True,True,False])\n"
   ]
  },
  {
   "cell_type": "code",
   "execution_count": null,
   "id": "b0716ad1",
   "metadata": {},
   "outputs": [
    {
     "data": {
      "text/html": [
       "<div>\n",
       "<style scoped>\n",
       "    .dataframe tbody tr th:only-of-type {\n",
       "        vertical-align: middle;\n",
       "    }\n",
       "\n",
       "    .dataframe tbody tr th {\n",
       "        vertical-align: top;\n",
       "    }\n",
       "\n",
       "    .dataframe thead th {\n",
       "        text-align: right;\n",
       "    }\n",
       "</style>\n",
       "<table border=\"1\" class=\"dataframe\">\n",
       "  <thead>\n",
       "    <tr style=\"text-align: right;\">\n",
       "      <th></th>\n",
       "      <th></th>\n",
       "      <th></th>\n",
       "      <th></th>\n",
       "      <th>score</th>\n",
       "    </tr>\n",
       "    <tr>\n",
       "      <th>source_langid</th>\n",
       "      <th>target_langid</th>\n",
       "      <th>test_set</th>\n",
       "      <th>engine</th>\n",
       "      <th></th>\n",
       "    </tr>\n",
       "  </thead>\n",
       "  <tbody>\n",
       "    <tr>\n",
       "      <th rowspan=\"4\" valign=\"top\">en</th>\n",
       "      <th rowspan=\"2\" valign=\"top\">de</th>\n",
       "      <th rowspan=\"2\" valign=\"top\">wmt20</th>\n",
       "      <th>microsoft</th>\n",
       "      <td>43.18</td>\n",
       "    </tr>\n",
       "    <tr>\n",
       "      <th>deepl</th>\n",
       "      <td>40.87</td>\n",
       "    </tr>\n",
       "    <tr>\n",
       "      <th rowspan=\"2\" valign=\"top\">it</th>\n",
       "      <th rowspan=\"2\" valign=\"top\">wmt09</th>\n",
       "      <th>deepl</th>\n",
       "      <td>34.63</td>\n",
       "    </tr>\n",
       "    <tr>\n",
       "      <th>microsoft</th>\n",
       "      <td>33.79</td>\n",
       "    </tr>\n",
       "  </tbody>\n",
       "</table>\n",
       "</div>"
      ],
      "text/plain": [
       "                                                score\n",
       "source_langid target_langid test_set engine          \n",
       "en            de            wmt20    microsoft  43.18\n",
       "                                     deepl      40.87\n",
       "              it            wmt09    deepl      34.63\n",
       "                                     microsoft  33.79"
      ]
     },
     "execution_count": null,
     "metadata": {},
     "output_type": "execute_result"
    }
   ],
   "source": [
    "chart"
   ]
  },
  {
   "cell_type": "code",
   "execution_count": null,
   "id": "4a283019",
   "metadata": {},
   "outputs": [
    {
     "data": {
      "image/png": "[encoded data removed]",
      "text/plain": [
       "<Figure size 640x480 with 1 Axes>"
      ]
     },
     "metadata": {},
     "output_type": "display_data"
    }
   ],
   "source": [
    "#@title\n",
    "import matplotlib.pyplot as plt\n",
    "\n",
    "plt.close(\"all\")\n",
    "plt.style.use('ggplot')\n",
    "ax = chart.plot.barh(legend=None)\n",
    "plt.title('BLEU Scores')\n",
    "plt.ylabel('Language pair/test set/engine')\n",
    "plt.xlabel('Score')\n",
    "ax.invert_yaxis()\n",
    "# ax.bar_label() only available with matplotlib >= 3.4.0\n",
    "# Using some code instead; drawback: labels can overlap right border of chart\n",
    "for i, v in enumerate(chart['score']):\n",
    "    ax.text(v + 1, i, str(v), va='center', fontweight='bold')\n",
    "#ax.set_xlim(right=30) \n",
    "plt.show()\n"
   ]
  },
  {
   "cell_type": "code",
   "execution_count": null,
   "id": "d3faabcc",
   "metadata": {},
   "outputs": [],
   "source": []
  }
 ],
 "metadata": {
  "kernelspec": {
   "display_name": "python3",
   "language": "python",
   "name": "python3"
  }
 },
 "nbformat": 4,
 "nbformat_minor": 5
}
