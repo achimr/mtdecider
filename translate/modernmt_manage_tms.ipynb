{
 "cells": [
  {
   "cell_type": "markdown",
   "id": "3591af33",
   "metadata": {},
   "source": [
    "# List and delete select ModernMT TMs\n",
    "Jupyter notebooks to manage TMs in ModernMT account"
   ]
  },
  {
   "cell_type": "code",
   "execution_count": null,
   "id": "621952ba",
   "metadata": {},
   "outputs": [],
   "source": [
    "#| hide\n",
    "import os"
   ]
  },
  {
   "cell_type": "code",
   "execution_count": null,
   "id": "28261b28",
   "metadata": {},
   "outputs": [],
   "source": [
    "#| hide\n",
    "running_in_colab = 'google.colab' in str(get_ipython())\n",
    "if running_in_colab:\n",
    "    from google.colab import drive\n",
    "    drive.mount('/content/drive')\n",
    "    homedir = \"/content/drive/MyDrive\"\n",
    "else:\n",
    "    homedir = os.getenv('HOME')"
   ]
  },
  {
   "cell_type": "code",
   "execution_count": null,
   "id": "5a7b595c",
   "metadata": {},
   "outputs": [],
   "source": [
    "#| hide\n",
    "if running_in_colab:\n",
    "    !pip3 install modernmt"
   ]
  },
  {
   "cell_type": "code",
   "execution_count": null,
   "id": "f6e64189",
   "metadata": {},
   "outputs": [],
   "source": [
    "#| hide\n",
    "from dotenv import load_dotenv"
   ]
  },
  {
   "cell_type": "code",
   "execution_count": null,
   "id": "d0c0c3df",
   "metadata": {},
   "outputs": [],
   "source": [
    "#| hide\n",
    "if running_in_colab:\n",
    "    # Colab doesn't have a mechanism to set environment variables other than python-dotenv\n",
    "    env_file = homedir+'/secrets/.env'\n",
    "    %load_ext dotenv\n",
    "    %dotenv {env_file}"
   ]
  },
  {
   "cell_type": "code",
   "execution_count": null,
   "id": "2f9a2a3b",
   "metadata": {},
   "outputs": [],
   "source": [
    "from modernmt import ModernMT\n",
    "mmt = ModernMT(os.getenv('MMT_API_KEY'))"
   ]
  },
  {
   "cell_type": "markdown",
   "id": "91de145e",
   "metadata": {},
   "source": [
    "# List TMs in ModernMT account"
   ]
  },
  {
   "cell_type": "code",
   "execution_count": null,
   "id": "ec104430",
   "metadata": {},
   "outputs": [],
   "source": [
    "memories = mmt.memories.list()\n",
    "memories"
   ]
  },
  {
   "cell_type": "markdown",
   "id": "a118356b",
   "metadata": {},
   "source": [
    "# Optional deletion of ModernMT TMs that are not needed anymore\n",
    "Please refer to the list above for the names of the TMs. To multi-select from the deletion list use Ctrl+Click and Shift+Click."
   ]
  },
  {
   "cell_type": "code",
   "execution_count": null,
   "id": "2e6d2869",
   "metadata": {},
   "outputs": [],
   "source": [
    "import ipywidgets as widgets\n",
    "from IPython.display import display\n",
    "\n",
    "memories_selection = {}\n",
    "if memories:\n",
    "    memories_selection = widgets.SelectMultiple(\n",
    "        options=[memory.id for memory in memories],\n",
    "        value=[memories[0].id],\n",
    "        description='Memories to delete:',\n",
    "        disabled=False\n",
    "    )\n",
    "\n",
    "    display(memories_selection)\n"
   ]
  },
  {
   "cell_type": "code",
   "execution_count": null,
   "id": "4a090991",
   "metadata": {},
   "outputs": [],
   "source": [
    "if memories_selection:\n",
    "    print(memories_selection.value)"
   ]
  },
  {
   "cell_type": "code",
   "execution_count": null,
   "id": "a25f9a44",
   "metadata": {},
   "outputs": [],
   "source": [
    "if memories_selection:\n",
    "    for delete_memory in memories_selection.value:\n",
    "        memory = mmt.memories.delete(delete_memory)"
   ]
  }
 ],
 "metadata": {
  "kernelspec": {
   "display_name": "python3",
   "language": "python",
   "name": "python3"
  }
 },
 "nbformat": 4,
 "nbformat_minor": 5
}
