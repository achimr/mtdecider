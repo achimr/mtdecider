{
 "cells": [
  {
   "cell_type": "markdown",
   "id": "3591af33",
   "metadata": {},
   "source": [
    "# Upload reference TM\n",
    "Jupyter notebook to name, create and upload a reference TM."
   ]
  },
  {
   "cell_type": "code",
   "execution_count": null,
   "id": "621952ba",
   "metadata": {},
   "outputs": [],
   "source": [
    "#| hide\n",
    "import os"
   ]
  },
  {
   "cell_type": "code",
   "execution_count": null,
   "id": "28261b28",
   "metadata": {},
   "outputs": [],
   "source": [
    "#| hide\n",
    "running_in_colab = 'google.colab' in str(get_ipython())\n",
    "if running_in_colab:\n",
    "    from google.colab import drive\n",
    "    drive.mount('/content/drive')\n",
    "    homedir = \"/content/drive/MyDrive\"\n",
    "else:\n",
    "    homedir = os.getenv('HOME')"
   ]
  },
  {
   "cell_type": "code",
   "execution_count": null,
   "id": "5a7b595c",
   "metadata": {},
   "outputs": [],
   "source": [
    "#| hide\n",
    "if running_in_colab:\n",
    "    !pip3 install modernmt"
   ]
  },
  {
   "cell_type": "code",
   "execution_count": null,
   "id": "f6e64189",
   "metadata": {},
   "outputs": [],
   "source": [
    "#| hide\n",
    "from dotenv import load_dotenv"
   ]
  },
  {
   "cell_type": "code",
   "execution_count": null,
   "id": "d0c0c3df",
   "metadata": {},
   "outputs": [],
   "source": [
    "#| hide\n",
    "if running_in_colab:\n",
    "    # Colab doesn't have a mechanism to set environment variables other than python-dotenv\n",
    "    env_file = homedir+'/secrets/.env'\n",
    "    %load_ext dotenv\n",
    "    %dotenv {env_file}"
   ]
  },
  {
   "cell_type": "markdown",
   "id": "a9bf5d98",
   "metadata": {},
   "source": [
    "## Create a new TM in ModernMT"
   ]
  },
  {
   "cell_type": "markdown",
   "id": "783d3ecf",
   "metadata": {},
   "source": [
    "### Name memory"
   ]
  },
  {
   "cell_type": "code",
   "execution_count": null,
   "id": "2e6d2869",
   "metadata": {},
   "outputs": [],
   "source": [
    "import ipywidgets as widgets\n",
    "from IPython.display import display\n",
    "\n",
    "tm_name = widgets.Text(\n",
    "    value='',\n",
    "    placeholder='',\n",
    "    description='ModernMT TM name:',\n",
    "    disabled=False\n",
    ")\n",
    "\n",
    "display(tm_name)\n"
   ]
  },
  {
   "cell_type": "code",
   "execution_count": null,
   "id": "684261d0",
   "metadata": {},
   "outputs": [],
   "source": [
    "print(tm_name.value)"
   ]
  },
  {
   "cell_type": "markdown",
   "id": "09cbdfeb",
   "metadata": {},
   "source": [
    "### Create the TM entry in ModernMT"
   ]
  },
  {
   "cell_type": "code",
   "execution_count": null,
   "id": "2f9a2a3b",
   "metadata": {},
   "outputs": [],
   "source": [
    "from modernmt import ModernMT\n",
    "mmt = ModernMT(os.getenv('MMT_API_KEY'))"
   ]
  },
  {
   "cell_type": "code",
   "execution_count": null,
   "id": "c7526ae0",
   "metadata": {},
   "outputs": [],
   "source": [
    "memory = mmt.memories.create(tm_name.value)"
   ]
  },
  {
   "cell_type": "code",
   "execution_count": null,
   "id": "f9f0b488",
   "metadata": {},
   "outputs": [],
   "source": [
    "print(memory)"
   ]
  },
  {
   "cell_type": "markdown",
   "id": "689edf9b",
   "metadata": {},
   "source": [
    "## Upload TMX file\n",
    "Please specify full path to reference TM TMX file."
   ]
  },
  {
   "cell_type": "code",
   "execution_count": null,
   "id": "af4174b6",
   "metadata": {},
   "outputs": [],
   "source": [
    "import ipywidgets as widgets\n",
    "from IPython.display import display\n",
    "\n",
    "tmx_path = widgets.Text(\n",
    "    value='',\n",
    "    placeholder='',\n",
    "    description='Unix path to TMX:',\n",
    "    disabled=False\n",
    ")\n",
    "\n",
    "display(tmx_path)\n"
   ]
  },
  {
   "cell_type": "code",
   "execution_count": null,
   "id": "2add3064",
   "metadata": {},
   "outputs": [],
   "source": [
    "print(tmx_path.value)"
   ]
  },
  {
   "cell_type": "code",
   "execution_count": null,
   "id": "ef785b4a",
   "metadata": {},
   "outputs": [],
   "source": [
    "import_job = mmt.memories.import_tmx(memory.id, tmx_path.value)"
   ]
  },
  {
   "cell_type": "code",
   "execution_count": null,
   "id": "da88c5e4",
   "metadata": {},
   "outputs": [],
   "source": [
    "print(import_job)"
   ]
  },
  {
   "cell_type": "markdown",
   "id": "4b6fba10",
   "metadata": {},
   "source": [
    "Re-run the following cell until progress of import job equals 1.\n",
    "\n",
    "**Keep a note of the memory ID!**"
   ]
  },
  {
   "cell_type": "code",
   "execution_count": null,
   "id": "03d49505",
   "metadata": {},
   "outputs": [],
   "source": [
    "import_job_status = mmt.memories.get_import_status(import_job.id)\n",
    "print(import_job_status)"
   ]
  }
 ],
 "metadata": {
  "kernelspec": {
   "display_name": "python3",
   "language": "python",
   "name": "python3"
  }
 },
 "nbformat": 4,
 "nbformat_minor": 5
}
