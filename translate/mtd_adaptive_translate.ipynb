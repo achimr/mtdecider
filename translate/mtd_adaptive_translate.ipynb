{
 "cells": [
  {
   "cell_type": "code",
   "execution_count": null,
   "metadata": {},
   "outputs": [],
   "source": [
    "#| hide\n",
    "import os"
   ]
  },
  {
   "cell_type": "code",
   "execution_count": null,
   "metadata": {},
   "outputs": [],
   "source": [
    "#| hide\n",
    "running_in_colab = 'google.colab' in str(get_ipython())\n",
    "if running_in_colab:\n",
    "    from google.colab import drive\n",
    "    drive.mount('/content/drive')\n",
    "    homedir = \"/content/drive/MyDrive\"\n",
    "else:\n",
    "    homedir = os.getenv('HOME')"
   ]
  },
  {
   "cell_type": "code",
   "execution_count": null,
   "metadata": {},
   "outputs": [],
   "source": [
    "#| hide\n",
    "if running_in_colab:\n",
    "    !pip3 install nbdev\n",
    "    !pip3 install mteval"
   ]
  },
  {
   "cell_type": "code",
   "execution_count": null,
   "metadata": {},
   "outputs": [],
   "source": [
    "#| hide\n",
    "from dotenv import load_dotenv"
   ]
  },
  {
   "cell_type": "code",
   "execution_count": null,
   "metadata": {},
   "outputs": [],
   "source": [
    "#| hide\n",
    "if running_in_colab:\n",
    "    # Colab doesn't have a mechanism to set environment variables other than python-dotenv\n",
    "    env_file = homedir+'/secrets/.env'\n",
    "    %load_ext dotenv\n",
    "    %dotenv {env_file}"
   ]
  },
  {
   "cell_type": "code",
   "execution_count": null,
   "metadata": {},
   "outputs": [],
   "source": [
    "from mteval.dataset import *\n",
    "from mteval.awsmt import *\n",
    "from mteval.deeplmt import *\n",
    "from mteval.googlemt import *\n",
    "from mteval.microsoftmt import *\n",
    "from mteval.modernmt import *"
   ]
  },
  {
   "cell_type": "code",
   "execution_count": null,
   "metadata": {},
   "outputs": [],
   "source": [
    "import sys\n",
    "from tqdm import tqdm\n",
    "from pathlib import Path\n",
    "\n",
    "def translate_test_set(mt,base_path,source_lines,reference_lines,sourcelang,targetlang,mtengine_name,test_set_name,test_date,mode):\n",
    "    # TBD: Should check here if language pair is actually supported by the MT engine - or rather earlier\n",
    "    target_lines = []\n",
    "    translate_path = Path(base_path,sourcelang+\"_\"+targetlang,test_date,test_set_name)\n",
    "    if not translate_path.exists():\n",
    "        translate_path.mkdir(parents=True)\n",
    "    output_filename = \"hyp_\"+mtengine_name+\".\"+mode+\".\"+sourcelang+\"-\"+targetlang+\".\"+targetlang\n",
    "    translate_file = Path(base_path+sourcelang+\"_\"+targetlang+\"/\"+test_date+\"/\"+test_set_name+\"/\"+output_filename)\n",
    "    # The MT engine output file already might exist from a previous run of the notebook on the same day.\n",
    "    # Skipping translation to avoid extra charges.If the file is corrupted/incorrect it should be deleted manually.\n",
    "    if translate_file.exists():\n",
    "        print(\"Translations file already exists:\"+str(translate_file),file=sys.stderr)\n",
    "        return None\n",
    "\n",
    "    with translate_file.open(mode=\"w\") as target_file:\n",
    "        segment_id = 0\n",
    "        for source_line,reference_line in tqdm(zip(source_lines,reference_lines),total=len(source_lines)):\n",
    "            target_line = mt.translate_text(sourcelang,targetlang,source_line)\n",
    "            target_lines.append(target_line)\n",
    "            # This is where the adaptation happens, for evaluation we assume that our references are always\n",
    "            # the correct edited translations\n",
    "            mt.add_reference_translation(str(segment_id),sourcelang,targetlang,source_line,reference_line)\n",
    "            print(target_line,file=target_file)\n",
    "            segment_id += 1\n",
    "    return target_lines\n"
   ]
  },
  {
   "cell_type": "code",
   "execution_count": null,
   "metadata": {},
   "outputs": [],
   "source": [
    "import ipywidgets as widgets\n",
    "from IPython.display import display\n",
    "\n",
    "mtengines_selection = widgets.SelectMultiple(\n",
    "    options=['modernmt'],\n",
    "    value=['modernmt'],\n",
    "    description='MT Engines:',\n",
    "    disabled=False\n",
    ")\n",
    "\n",
    "display(mtengines_selection)\n"
   ]
  },
  {
   "cell_type": "code",
   "execution_count": null,
   "metadata": {},
   "outputs": [],
   "source": [
    "print(mtengines_selection.value)"
   ]
  },
  {
   "cell_type": "markdown",
   "metadata": {},
   "source": [
    "## Specify any reference TMs here\n",
    "Reference TMs (translation memories of translations projects similar to the current translation project) can be uploaded using the Jupyter notebook `modernmt_upload_reference_tm.ipynb`.\n",
    "\n",
    "Leave this input field empty if no reference TMs are available or desired."
   ]
  },
  {
   "cell_type": "code",
   "execution_count": null,
   "metadata": {},
   "outputs": [],
   "source": [
    "import ipywidgets as widgets\n",
    "from IPython.display import display\n",
    "\n",
    "reference_tm_list = widgets.Text(\n",
    "    value='',\n",
    "    placeholder='',\n",
    "    description='Comma-separated list of reference TM ids:',\n",
    "    disabled=False\n",
    ")\n",
    "\n",
    "display(reference_tm_list)"
   ]
  },
  {
   "cell_type": "code",
   "execution_count": null,
   "metadata": {},
   "outputs": [],
   "source": [
    "print(reference_tm_list.value)"
   ]
  },
  {
   "cell_type": "code",
   "execution_count": null,
   "metadata": {},
   "outputs": [],
   "source": [
    "reference_tms = []\n",
    "if reference_tm_list.value:\n",
    "    reference_tms = [int(reference_id.strip()) for reference_id in reference_tm_list.value.split(',')]\n",
    "print(reference_tms)"
   ]
  },
  {
   "cell_type": "code",
   "execution_count": null,
   "metadata": {},
   "outputs": [],
   "source": [
    "import csv\n",
    "import sys\n",
    "from datetime import date\n",
    "\n",
    "base_path = homedir+\"/mtd_data/\"\n",
    "translateset_fname = \"translate_sets.csv\"\n",
    "\n",
    "# deepl: check if language pair is available\n",
    "with open(base_path+translateset_fname,'r') as translatesets_fh:\n",
    "    set_reader = csv.reader(translatesets_fh)\n",
    "    for (source_language_code,target_language_code,test_set_name) in set_reader:\n",
    "        translate_date = date.today().isoformat()\n",
    "        for mtengine in mtengines_selection.value:\n",
    "            # This should really be an abstract base class being initialized with the mtengine string\n",
    "            mt_class_initialization = mtengine+\"translate\"\n",
    "            mode = \"\"\n",
    "            if reference_tms:\n",
    "                mode = \"adtref\"\n",
    "            else:\n",
    "                mode = \"adt\"\n",
    "            mt = globals()[mt_class_initialization](adaptive=True,reference_tms=reference_tms)\n",
    "            source_lang_eng = source_language_code\n",
    "            target_lang_eng = target_language_code\n",
    "            if mtengine == \"deepl\":\n",
    "                # DeepL doesn't recognize \"en\" as target language\n",
    "                if target_lang_eng == \"en\":\n",
    "                    target_lang_eng = \"en-US\"\n",
    "                if not mt.check_langpair(source_lang_eng,target_lang_eng):\n",
    "                    print(\"DeepL does not support language pair {}-{}\".format(source_lang_eng,target_lang_eng),file=sys.stderr)\n",
    "                    continue\n",
    "            source_lines = []\n",
    "            reference_lines = []\n",
    "            source_lines, reference_lines = download_read_set(base_path,source_language_code,target_language_code,test_set_name)\n",
    "\n",
    "            print(\"Test set translation {}-{} Testset: {} Date: {} MT engine: {}\".format(source_lang_eng,target_lang_eng,test_set_name,translate_date,mtengine))\n",
    "            target_lines = translate_test_set(mt,base_path,source_lines,reference_lines,source_lang_eng,target_lang_eng,mtengine,test_set_name,translate_date,mode)\n"
   ]
  },
  {
   "cell_type": "code",
   "execution_count": null,
   "metadata": {},
   "outputs": [],
   "source": []
  }
 ],
 "metadata": {
  "kernelspec": {
   "display_name": "python3",
   "language": "python",
   "name": "python3"
  }
 },
 "nbformat": 4,
 "nbformat_minor": 1
}
